{
 "cells": [
  {
   "cell_type": "code",
   "execution_count": 1,
   "metadata": {},
   "outputs": [
    {
     "data": {
      "image/png": "[encoded data removed]",
      "text/plain": [
       "<Figure size 432x288 with 1 Axes>"
      ]
     },
     "metadata": {
      "needs_background": "light"
     },
     "output_type": "display_data"
    }
   ],
   "source": [
    "from nonogramsolver import *\n",
    "\n",
    "ROWS_VALUES = [[2], [4], [6], [4, 3], [5, 4], [2, 3, 2], [3, 5], [5], [3], [2], [2], [6]]\n",
    "COLS_VALUES = [[3], [5], [3, 2, 1], [5, 1, 1], [12], [3, 7], [4, 1, 1, 1], [3, 1, 1], [4], [2]]\n",
    "\n",
    "# ROWS_VALUES = [[2, 3, 1], [1, 1, 3, 1, 1], [1, 2, 2, 2, 1], [1,1,1,1,1], [1,4,1,2], [2,7,1], [3,2], [1,5,1], [5,3], [1,3,5], [1,1,1,1,1], [3,3,1,8], [2,2,1,1], [6,3], [2,4]]\n",
    "# COLS_VALUES = [[4,3], [1,2,4], [1,3,1,1,1], [3,1,6,1], [1,1,1], [4,1,2], [3,1,1,3], [2,1,1,1], [1,1,2,1,1,4], [3,1,1,1,2], [1,1,6], [1,1,1], [1,1,1], [5,1,1], [3,1], [1,1], [4], [3,1], [4], [1,1]]\n",
    "\n",
    "ROWS_VALUES = [[2,8,1],[2,1,12],[4,14,2],[2,16,2,2],[17,2,1],[10,1,4],[9,5,2],[9,2,1,3],[1,4,5,2],[1,7,3,1,2,3,1],[1,7,3,2,2,1,4],[1,4,3,1,3,1],[9,2,2,2],[7,6,2],[4,6,1],[1,6,2,2],[3,6,1,2,2],[2,1,5,1,2,2],[3,7,1,2],[2,9,1,3],[3,9,1,1],[4,9,1,1,2,1],[5,12,1,2,2],[1,4,10,1,3,2],[1,5,7,2,3,3],[1,7,2,7],[1,15,7],[1,7,11,8],[1,8,1,9],[1,16,1,9]]\n",
    "COLS_VALUES = [[2,1,13],[4,1,7],[1,2,1,1,1,10],[2,4,1,9],[4,2,8],[4,5,4,7],[5,2,11,6],[6,2,12,5],[7,2,12,5],[7,2,13,1,2],[8,2,13,2,1],[8,2,2,7,2,1],[8,2,1,5,2,1],[9,2,4,2,1],[6,4,3,2,1],[5,4,3,3,2,1],[5,6,1,2,3,1],[5,2,2,2,4,2,1,1],[4,1,4,1,4,2,2],[4,1,1,2,1,1,4,1,1],[3,1,1,1,2,4,1],[8,2,4,2],[6,3],[2,7],[4,1,9],[1,2,1,1,9],[2,5,5],[7,6],[2,1,1,1,8],[1,2,1,3,9]]\n",
    "\n",
    "# ROWS_VALUES = [[5], [6], [4,1,4], [3,2,6], [3,1,1,2,3], [2,1,1,1,3], [3,2,1,2], [3,1,1,2], [2,3,5], [7,1,3], [2,2,2,2], [2,2,3], [3,5,2], [4,1], [14]]\n",
    "# COLS_VALUES = [[9], [9,5], [5,2,6], [3,2,3], [2,1,2,2], [3,1,3,1],[5,3,1], [1,2,1], [2,2,1,1], [2,2,1,1,1], [2,1,2,1,1], [2,1,2,1], [4,4,1], [11, 1], [7,3]]\n",
    "\n",
    "nns = NonogramSolver(ROWS_VALUES, COLS_VALUES) "
   ]
  },
  {
   "cell_type": "code",
   "execution_count": 3,
   "metadata": {},
   "outputs": [
    {
     "data": {
      "image/png": "[encoded data removed]",
      "text/plain": [
       "<Figure size 432x288 with 1 Axes>"
      ]
     },
     "metadata": {
      "needs_background": "light"
     },
     "output_type": "display_data"
    }
   ],
   "source": [
    "ROWS_VALUES = [[2, 3, 1], [1, 1, 3, 1, 1], [1, 2, 2, 2, 1], [1,1,1,1,1], [1,4,1,2], [2,7,1], [3,2], [1,5,1], [5,3], [1,3,5], [1,1,1,1,1], [3,3,1,8], [2,2,1,1], [6,3], [2,4]]\n",
    "COLS_VALUES = [[4,3], [1,2,4], [1,3,1,1,1], [3,1,6,1], [1,1,1], [4,1,2], [3,1,1,3], [2,1,1,1], [1,1,2,1,1,4], [3,1,1,1,2], [1,1,6], [1,1,1], [1,1,1], [5,1,1], [3,1], [1,1], [4], [3,1], [4], [1,1]]\n",
    "\n",
    "\n",
    "nns2 = NonogramSolver(ROWS_VALUES, COLS_VALUES)"
   ]
  },
  {
   "cell_type": "code",
   "execution_count": null,
   "metadata": {},
   "outputs": [],
   "source": []
  }
 ],
 "metadata": {
  "interpreter": {
   "hash": "626ec6a843a5cb06fd420083745d51e3b42c14709ccdd266ed76c0bcd1497738"
  },
  "kernelspec": {
   "display_name": "Python 3.6.10 ('keras-gpu')",
   "language": "python",
   "name": "python3"
  },
  "language_info": {
   "codemirror_mode": {
    "name": "ipython",
    "version": 3
   },
   "file_extension": ".py",
   "mimetype": "text/x-python",
   "name": "python",
   "nbconvert_exporter": "python",
   "pygments_lexer": "ipython3",
   "version": "3.6.10"
  },
  "orig_nbformat": 4
 },
 "nbformat": 4,
 "nbformat_minor": 2
}
